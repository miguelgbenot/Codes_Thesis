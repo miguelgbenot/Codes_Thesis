{
 "cells": [
  {
   "cell_type": "code",
   "execution_count": null,
   "id": "d32830ff",
   "metadata": {},
   "outputs": [],
   "source": [
    "import subprocess\n",
    "import os\n",
    "import numpy as np\n",
    "\n",
    "# Define the initial constant and the lower and higher levels\n",
    "initial_constant = 0.3364119968935\n",
    "lower_level = 0.3364119968935  # Replace this with a lower level\n",
    "higher_level = 0.3364162156435  # Replace this with a higher level\n",
    "\n",
    "# Execute the command for 20 iterations\n",
    "previous_constant = initial_constant\n",
    "for i in range(20):\n",
    "    command = f\"taskset -c 0,1,2,3,4,5 ./SFcollapse1D 320 8 5.3162 0.08 {previous_constant}  && mv out_central_values.dat f_{previous_constant}.dat\"\n",
    "    subprocess.run(command, shell=True)\n",
    "    \n",
    "    # Read the file\n",
    "    filename = f\"f_{previous_constant}.dat\"\n",
    "    t_w, alp_w, sf_w = np.loadtxt(filename).T\n",
    "    \n",
    "    # Check condition\n",
    "    if any(alp_w < 1.5e-3):\n",
    "        higher_level = previous_constant\n",
    "        result = \"Condition met\"\n",
    "    else:\n",
    "        lower_level = previous_constant\n",
    "        result = \"Condition not met\"\n",
    "    \n",
    "    # Print the result\n",
    "    with open(\"results_fine.dat\", \"a\") as file:\n",
    "        print(f\"Iteration {i+1}: Constant = {previous_constant}, Result = {result}\", file=file)\n",
    "    \n",
    "    # Update the previous constant for the next iteration\n",
    "    previous_constant = (higher_level + lower_level) / 2"
   ]
  }
 ],
 "metadata": {
  "kernelspec": {
   "display_name": "Python 3 (ipykernel)",
   "language": "python",
   "name": "python3"
  },
  "language_info": {
   "codemirror_mode": {
    "name": "ipython",
    "version": 3
   },
   "file_extension": ".py",
   "mimetype": "text/x-python",
   "name": "python",
   "nbconvert_exporter": "python",
   "pygments_lexer": "ipython3",
   "version": "3.9.13"
  }
 },
 "nbformat": 4,
 "nbformat_minor": 5
}
